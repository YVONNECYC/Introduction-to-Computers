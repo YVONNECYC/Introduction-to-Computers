{
  "nbformat": 4,
  "nbformat_minor": 0,
  "metadata": {
    "colab": {
      "provenance": [],
      "authorship_tag": "ABX9TyOTfISjO3+NaeOjQwHLgbOV",
      "include_colab_link": true
    },
    "kernelspec": {
      "name": "python3",
      "display_name": "Python 3"
    },
    "language_info": {
      "name": "python"
    }
  },
  "cells": [
    {
      "cell_type": "markdown",
      "metadata": {
        "id": "view-in-github",
        "colab_type": "text"
      },
      "source": [
        "<a href=\"https://colab.research.google.com/github/YVONNECYC/Introduction-to-Computers/blob/main/0517.ipynb\" target=\"_parent\"><img src=\"https://colab.research.google.com/assets/colab-badge.svg\" alt=\"Open In Colab\"/></a>"
      ]
    },
    {
      "cell_type": "code",
      "execution_count": 1,
      "metadata": {
        "colab": {
          "base_uri": "https://localhost:8080/"
        },
        "id": "p-HbX3hgyk1e",
        "outputId": "6adcc368-4110-485b-b3fa-a548829ff1ba"
      },
      "outputs": [
        {
          "output_type": "stream",
          "name": "stdout",
          "text": [
            "0517\n"
          ]
        }
      ],
      "source": [
        "print(\"0517\")"
      ]
    },
    {
      "cell_type": "code",
      "source": [
        "score = int(input(\"score: \"))\n",
        "if score >= 90:\n",
        "  print('Grade is: A')\n",
        "elif score >= 80:\n",
        "  print('Grade is: B')\n",
        "elif score >= 70:\n",
        "  print('Grade is: C')\n",
        "elif score >= 60:\n",
        "  print('Grade is: D')\n",
        "else:\n",
        "  print('Grade is: F')"
      ],
      "metadata": {
        "id": "JH6Ejs5w0I5h"
      },
      "execution_count": null,
      "outputs": []
    },
    {
      "cell_type": "code",
      "source": [
        "rain = input(\"今天會下雨嗎?\")\n",
        "if (rain == \"Y\" or rain == \"y\" or rain == \"N\" or rain == \"n\"):\n",
        "  if (rain == \"Y\" or rain == \"y\"):\n",
        "    print(\"出門記得帶傘!\")\n",
        "  else:\n",
        "    print(\"不用帶傘!\")\n",
        "else:\n",
        "  print(\"請重新輸入!\")"
      ],
      "metadata": {
        "id": "2uArlGktzVES"
      },
      "execution_count": null,
      "outputs": []
    },
    {
      "cell_type": "code",
      "source": [
        "c = float(input(\"體溫: \"))\n",
        "if c >= 37.5:\n",
        "  print('體溫過高!')\n",
        "elif c >= 37:\n",
        "  print('體溫略高!')\n",
        "elif c >= 34:\n",
        "  print('體溫正常!')\n",
        "else:\n",
        "  print('體溫異常，請重新量測!')"
      ],
      "metadata": {
        "id": "Ue29z2Dt1uCQ"
      },
      "execution_count": null,
      "outputs": []
    },
    {
      "cell_type": "code",
      "source": [
        "score = int(input(\"請輸入成績\"))\n",
        "if score >= 90:\n",
        "  print('A')\n",
        "elif score >= 80:\n",
        "  print('B')\n",
        "elif score >= 70:\n",
        "  print('C')\n",
        "elif score >= 60:\n",
        "  print('D')\n",
        "else:\n",
        "  print('E')"
      ],
      "metadata": {
        "id": "wN4BKCjg268D"
      },
      "execution_count": null,
      "outputs": []
    },
    {
      "cell_type": "code",
      "source": [
        "n = int(input(\"請輸入季節\"))\n",
        "if (1 <= n <= 12):\n",
        "  if (n == 3 or n == 4 or n == 5):\n",
        "    print(n, \"月是春天!\")\n",
        "  elif (n == 6 or n == 7 or n == 8):\n",
        "    print(n, \"月是夏天!\")\n",
        "  elif (n == 9 or n == 10 or n == 11):  \n",
        "    print(n, \"月是秋天!\")\n",
        "  else:\n",
        "    print(n, \"月是冬天！\") \n",
        "else:\n",
        "  print(\"月份不在範圍內!\")"
      ],
      "metadata": {
        "id": "JvEBE9J_3TBs"
      },
      "execution_count": null,
      "outputs": []
    },
    {
      "cell_type": "code",
      "source": [
        "m = int(input(\"請輸入今年收入淨額: \"))\n",
        "if m >= 2000000:\n",
        "  a = m * 0.3\n",
        "  print('付稅金額',a)\n",
        "elif m >= 1000000:\n",
        "  a = m * 0.21\n",
        "  print('付稅金額',a)\n",
        "elif m >= 600000:\n",
        "  a = m * 0.13\n",
        "  print('付稅金額',a)\n",
        "elif m >= 300000:\n",
        "  a = m * 0.06\n",
        "  print('付稅金額',a)\n",
        "else:\n",
        "  print('付稅金額: 0 元')"
      ],
      "metadata": {
        "id": "cSU-DAnI4Mvw"
      },
      "execution_count": null,
      "outputs": []
    }
  ]
}